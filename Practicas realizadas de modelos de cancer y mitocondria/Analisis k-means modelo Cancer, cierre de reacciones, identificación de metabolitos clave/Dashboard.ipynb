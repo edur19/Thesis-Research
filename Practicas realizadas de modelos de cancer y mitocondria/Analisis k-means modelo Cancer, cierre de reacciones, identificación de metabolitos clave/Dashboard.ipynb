{
 "cells": [
  {
   "cell_type": "code",
   "execution_count": 18,
   "id": "d89fa416",
   "metadata": {},
   "outputs": [
    {
     "name": "stdout",
     "output_type": "stream",
     "text": [
      "Requirement already satisfied: pandas in /opt/anaconda3/lib/python3.11/site-packages (2.1.4)\n",
      "Requirement already satisfied: dash in /opt/anaconda3/lib/python3.11/site-packages (2.18.2)\n",
      "Requirement already satisfied: plotly in /opt/anaconda3/lib/python3.11/site-packages (5.9.0)\n",
      "Requirement already satisfied: numpy<2,>=1.23.2 in /opt/anaconda3/lib/python3.11/site-packages (from pandas) (1.26.4)\n",
      "Requirement already satisfied: python-dateutil>=2.8.2 in /opt/anaconda3/lib/python3.11/site-packages (from pandas) (2.8.2)\n",
      "Requirement already satisfied: pytz>=2020.1 in /opt/anaconda3/lib/python3.11/site-packages (from pandas) (2023.3.post1)\n",
      "Requirement already satisfied: tzdata>=2022.1 in /opt/anaconda3/lib/python3.11/site-packages (from pandas) (2023.3)\n",
      "Requirement already satisfied: Flask<3.1,>=1.0.4 in /opt/anaconda3/lib/python3.11/site-packages (from dash) (2.2.5)\n",
      "Requirement already satisfied: Werkzeug<3.1 in /opt/anaconda3/lib/python3.11/site-packages (from dash) (2.2.3)\n",
      "Requirement already satisfied: dash-html-components==2.0.0 in /opt/anaconda3/lib/python3.11/site-packages (from dash) (2.0.0)\n",
      "Requirement already satisfied: dash-core-components==2.0.0 in /opt/anaconda3/lib/python3.11/site-packages (from dash) (2.0.0)\n",
      "Requirement already satisfied: dash-table==5.0.0 in /opt/anaconda3/lib/python3.11/site-packages (from dash) (5.0.0)\n",
      "Requirement already satisfied: importlib-metadata in /opt/anaconda3/lib/python3.11/site-packages (from dash) (7.0.1)\n",
      "Requirement already satisfied: typing-extensions>=4.1.1 in /opt/anaconda3/lib/python3.11/site-packages (from dash) (4.9.0)\n",
      "Requirement already satisfied: requests in /opt/anaconda3/lib/python3.11/site-packages (from dash) (2.31.0)\n",
      "Requirement already satisfied: retrying in /opt/anaconda3/lib/python3.11/site-packages (from dash) (1.3.4)\n",
      "Requirement already satisfied: nest-asyncio in /opt/anaconda3/lib/python3.11/site-packages (from dash) (1.6.0)\n",
      "Requirement already satisfied: setuptools in /opt/anaconda3/lib/python3.11/site-packages (from dash) (68.2.2)\n",
      "Requirement already satisfied: tenacity>=6.2.0 in /opt/anaconda3/lib/python3.11/site-packages (from plotly) (8.2.2)\n",
      "Requirement already satisfied: Jinja2>=3.0 in /opt/anaconda3/lib/python3.11/site-packages (from Flask<3.1,>=1.0.4->dash) (3.1.3)\n",
      "Requirement already satisfied: itsdangerous>=2.0 in /opt/anaconda3/lib/python3.11/site-packages (from Flask<3.1,>=1.0.4->dash) (2.0.1)\n",
      "Requirement already satisfied: click>=8.0 in /opt/anaconda3/lib/python3.11/site-packages (from Flask<3.1,>=1.0.4->dash) (8.1.7)\n",
      "Requirement already satisfied: six>=1.5 in /opt/anaconda3/lib/python3.11/site-packages (from python-dateutil>=2.8.2->pandas) (1.16.0)\n",
      "Requirement already satisfied: MarkupSafe>=2.1.1 in /opt/anaconda3/lib/python3.11/site-packages (from Werkzeug<3.1->dash) (2.1.3)\n",
      "Requirement already satisfied: zipp>=0.5 in /opt/anaconda3/lib/python3.11/site-packages (from importlib-metadata->dash) (3.17.0)\n",
      "Requirement already satisfied: charset-normalizer<4,>=2 in /opt/anaconda3/lib/python3.11/site-packages (from requests->dash) (2.0.4)\n",
      "Requirement already satisfied: idna<4,>=2.5 in /opt/anaconda3/lib/python3.11/site-packages (from requests->dash) (3.4)\n",
      "Requirement already satisfied: urllib3<3,>=1.21.1 in /opt/anaconda3/lib/python3.11/site-packages (from requests->dash) (2.0.7)\n",
      "Requirement already satisfied: certifi>=2017.4.17 in /opt/anaconda3/lib/python3.11/site-packages (from requests->dash) (2024.2.2)\n",
      "         Etiquetas     Biomasa\n",
      "0   benzo[a]pyrene  701.269597\n",
      "1      naphthalene  701.269597\n",
      "2     aflatoxin B1  701.269597\n",
      "3  trichloroethene  701.269597\n",
      "4     bromobenzene  701.269597\n"
     ]
    },
    {
     "data": {
      "text/html": [
       "\n",
       "        <iframe\n",
       "            width=\"100%\"\n",
       "            height=\"650\"\n",
       "            src=\"http://127.0.0.1:8050/\"\n",
       "            frameborder=\"0\"\n",
       "            allowfullscreen\n",
       "            \n",
       "        ></iframe>\n",
       "        "
      ],
      "text/plain": [
       "<IPython.lib.display.IFrame at 0x12e98cc10>"
      ]
     },
     "metadata": {},
     "output_type": "display_data"
    }
   ],
   "source": [
    "!pip install pandas dash plotly  # Solo instalar Dash y Plotly\n",
    "\n",
    "import pandas as pd\n",
    "from dash import dcc, html\n",
    "from dash.dependencies import Input, Output\n",
    "import plotly.express as px\n",
    "import numpy as np\n",
    "\n",
    "# Cargar tu archivo CSV (asegurándote de que el archivo CSV esté en el directorio adecuado)\n",
    "df = pd.read_csv('/Users/eduardoruiz/Documents/MCBCI/MCBCI2/Sistemas metabólicos/Modelos cancer/exchange_reactions_biomass.csv')\n",
    "\n",
    "# Extraer las columnas necesarias\n",
    "etiquetas = df.iloc[:, 1]  # Columna de etiquetas\n",
    "biomasa = df.iloc[:, 2]   # Columna de producción de biomasa\n",
    "\n",
    "# Crear un DataFrame con las columnas necesarias\n",
    "df = pd.DataFrame({\n",
    "    \"Etiquetas\": etiquetas,\n",
    "    \"Biomasa\": biomasa\n",
    "})\n",
    "\n",
    "# Visualizar las primeras filas del archivo para verificar los datos\n",
    "print(df.head())\n",
    "\n",
    "# Crear la aplicación Dash\n",
    "import dash\n",
    "app = dash.Dash(__name__)\n",
    "\n",
    "# Diseño de la aplicación\n",
    "app.layout = html.Div([\n",
    "    html.H1(\"Dashboard de Flujos Metabólicos\", style={'textAlign': 'center'}),\n",
    "    dcc.Dropdown(\n",
    "        id='dropdown-etiqueta',\n",
    "        options=[{'label': etiqueta, 'value': etiqueta} for etiqueta in df['Etiquetas']],\n",
    "        value=df['Etiquetas'][0],\n",
    "        placeholder=\"Selecciona una reacción...\",\n",
    "        style={'width': '50%', 'margin': '0 auto'}\n",
    "    ),\n",
    "    dcc.Graph(id='grafico-biomasa'),\n",
    "    html.Div(id='info-seleccion', style={'textAlign': 'center', 'marginTop': '20px', 'fontSize': '18px', 'fontWeight': 'bold'})\n",
    "])\n",
    "\n",
    "# Callback para actualizar gráfico y texto\n",
    "@app.callback(\n",
    "    [Output('grafico-biomasa', 'figure'),\n",
    "     Output('info-seleccion', 'children')],\n",
    "    [Input('dropdown-etiqueta', 'value')]\n",
    ")\n",
    "def actualizar_grafico(etiqueta_seleccionada):\n",
    "    # Filtrar la reacción seleccionada\n",
    "    df_seleccionado = df[df['Etiquetas'] == etiqueta_seleccionada]\n",
    "    \n",
    "    # Crear un gráfico de dispersión\n",
    "    fig = px.scatter(\n",
    "        df,\n",
    "        x=\"Etiquetas\",\n",
    "        y=\"Biomasa\",\n",
    "        title=\"Producción de biomasa para todas las reacciones\",\n",
    "        labels={\"Etiquetas\": \"Reacción\", \"Biomasa\": \"Producción de biomasa\"},\n",
    "        template=\"plotly\"\n",
    "    )\n",
    "    \n",
    "    # Resaltar el punto seleccionado\n",
    "    fig.add_scatter(\n",
    "        x=df_seleccionado['Etiquetas'],\n",
    "        y=df_seleccionado['Biomasa'],\n",
    "        mode='markers',\n",
    "        marker=dict(size=12, color='red'),\n",
    "        name=f'Selección: {etiqueta_seleccionada}'\n",
    "    )\n",
    "    \n",
    "    # Configurar el tamaño del gráfico, eliminar las etiquetas del eje X y agregar números\n",
    "    fig.update_layout(\n",
    "    height=600,  # Aumentar la altura del gráfico\n",
    "    width=1000,  # Aumentar el ancho del gráfico\n",
    "    xaxis=dict(\n",
    "        showticklabels=True,  # Mostrar los números en el eje X\n",
    "        tickmode='array',  # Usar una lista personalizada para los ticks\n",
    "        tickvals=np.arange(0, len(df), 50),  # Agregar números como marcas\n",
    "        ticktext=[str(i) for i in np.arange(0, len(df), 50)]  # Usar esos números como etiquetas\n",
    "        )\n",
    "    )\n",
    "    \n",
    "    # Información adicional\n",
    "    info = f\"La biomasa producida por {etiqueta_seleccionada} es {df_seleccionado['Biomasa'].values[0]:.2f}.\"\n",
    "    return fig, info\n",
    "\n",
    "# Ejecutar la aplicación en modo Jupyter\n",
    "# Ejecutar la aplicación en una nueva pestaña del navegador\n",
    "app.run_server(debug=True)\n",
    "\n"
   ]
  },
  {
   "cell_type": "code",
   "execution_count": 19,
   "id": "265ce966",
   "metadata": {},
   "outputs": [
    {
     "name": "stdout",
     "output_type": "stream",
     "text": [
      "/Users/eduardoruiz\n"
     ]
    }
   ],
   "source": [
    "import os\n",
    "print(os.getcwd())\n"
   ]
  },
  {
   "cell_type": "code",
   "execution_count": 20,
   "id": "44b28258",
   "metadata": {},
   "outputs": [],
   "source": [
    "os.chdir('/Users/eduardoruiz/Documents/MCBCI/MCBCI2/Sistemas metabólicos/Modelos cancer/')\n"
   ]
  },
  {
   "cell_type": "code",
   "execution_count": 21,
   "id": "da15e35a",
   "metadata": {},
   "outputs": [
    {
     "name": "stdout",
     "output_type": "stream",
     "text": [
      "/Users/eduardoruiz/Documents/MCBCI/MCBCI2/Sistemas metabólicos/Modelos cancer\n"
     ]
    }
   ],
   "source": [
    "print(os.getcwd())"
   ]
  },
  {
   "cell_type": "code",
   "execution_count": null,
   "id": "62e91c4b",
   "metadata": {},
   "outputs": [],
   "source": []
  }
 ],
 "metadata": {
  "kernelspec": {
   "display_name": "Python 3 (ipykernel)",
   "language": "python",
   "name": "python3"
  },
  "language_info": {
   "codemirror_mode": {
    "name": "ipython",
    "version": 3
   },
   "file_extension": ".py",
   "mimetype": "text/x-python",
   "name": "python",
   "nbconvert_exporter": "python",
   "pygments_lexer": "ipython3",
   "version": "3.11.7"
  }
 },
 "nbformat": 4,
 "nbformat_minor": 5
}
